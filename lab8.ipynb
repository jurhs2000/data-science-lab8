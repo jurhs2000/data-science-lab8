{
 "cells": [
  {
   "cell_type": "markdown",
   "metadata": {},
   "source": [
    "#### Universidad del Valle de Guatemala\n",
    "Data Science - CC3066\n",
    "#### Laboratorio 8 - Caso de Estudio COVID-19\n",
    "Julio Herrera 19402\n",
    "Oscar Saravia 19322\n",
    "Diego Arredondo 19422"
   ]
  },
  {
   "cell_type": "code",
   "execution_count": null,
   "metadata": {},
   "outputs": [],
   "source": [
    "# imports\n",
    "import numpy as np\n",
    "import pandas as pd\n",
    "import matplotlib.pyplot as plt"
   ]
  },
  {
   "cell_type": "markdown",
   "metadata": {},
   "source": [
    "Leyendo los dataset de casos confirmados, muertes y recuperados de COVID-19"
   ]
  },
  {
   "cell_type": "code",
   "execution_count": null,
   "metadata": {},
   "outputs": [],
   "source": [
    "dt_confirm = pd.read_csv('time_series_covid19_confirmed_global.csv')\n",
    "dt_deaths = pd.read_csv('time_series_covid19_deaths_global.csv')\n",
    "dt_recover = pd.read_csv('time_series_covid19_recovered_global.csv')"
   ]
  },
  {
   "cell_type": "code",
   "execution_count": null,
   "metadata": {},
   "outputs": [],
   "source": [
    "dt_confirm"
   ]
  }
 ],
 "metadata": {
  "language_info": {
   "name": "python"
  },
  "orig_nbformat": 4
 },
 "nbformat": 4,
 "nbformat_minor": 2
}
